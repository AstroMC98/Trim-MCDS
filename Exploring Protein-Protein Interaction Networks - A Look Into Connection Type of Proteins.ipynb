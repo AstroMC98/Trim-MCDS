{
 "cells": [
  {
   "cell_type": "markdown",
   "metadata": {},
   "source": [
    "# Importing Python Notebooks"
   ]
  },
  {
   "cell_type": "code",
   "execution_count": 1,
   "metadata": {},
   "outputs": [
    {
     "name": "stderr",
     "output_type": "stream",
     "text": [
      "\n",
      "Bad key \"text.kerning_factor\" on line 4 in\n",
      "D:\\Downloads\\Anaconda3\\envs\\sgraph\\lib\\site-packages\\matplotlib\\mpl-data\\stylelib\\_classic_test_patch.mplstyle.\n",
      "You probably need to get an updated matplotlibrc file from\n",
      "https://github.com/matplotlib/matplotlib/blob/v3.1.3/matplotlibrc.template\n",
      "or from the matplotlib source distribution\n"
     ]
    }
   ],
   "source": [
    "import networkx as nx\n",
    "import matplotlib.pyplot as plt\n",
    "import numpy as np\n",
    "import pandas as pd\n",
    "from statistics import mean,mode,median \n",
    "import csv\n",
    "from tqdm import tqdm\n",
    "import time\n",
    "%matplotlib inline"
   ]
  },
  {
   "cell_type": "markdown",
   "metadata": {},
   "source": [
    "# Loading Data"
   ]
  },
  {
   "cell_type": "code",
   "execution_count": 2,
   "metadata": {},
   "outputs": [
    {
     "data": {
      "text/html": [
       "<div>\n",
       "<style scoped>\n",
       "    .dataframe tbody tr th:only-of-type {\n",
       "        vertical-align: middle;\n",
       "    }\n",
       "\n",
       "    .dataframe tbody tr th {\n",
       "        vertical-align: top;\n",
       "    }\n",
       "\n",
       "    .dataframe thead th {\n",
       "        text-align: right;\n",
       "    }\n",
       "</style>\n",
       "<table border=\"1\" class=\"dataframe\">\n",
       "  <thead>\n",
       "    <tr style=\"text-align: right;\">\n",
       "      <th></th>\n",
       "      <th>ENTITYA</th>\n",
       "      <th>TYPEA</th>\n",
       "      <th>IDA</th>\n",
       "      <th>DATABASEA</th>\n",
       "      <th>ENTITYB</th>\n",
       "      <th>TYPEB</th>\n",
       "      <th>IDB</th>\n",
       "      <th>DATABASEB</th>\n",
       "      <th>EFFECT</th>\n",
       "      <th>MECHANISM</th>\n",
       "      <th>...</th>\n",
       "      <th>MODIFICATIONA</th>\n",
       "      <th>MODASEQ</th>\n",
       "      <th>MODIFICATIONB</th>\n",
       "      <th>MODBSEQ</th>\n",
       "      <th>PMID</th>\n",
       "      <th>DIRECT</th>\n",
       "      <th>NOTES</th>\n",
       "      <th>ANNOTATOR</th>\n",
       "      <th>SENTENCE</th>\n",
       "      <th>SIGNOR_ID</th>\n",
       "    </tr>\n",
       "  </thead>\n",
       "  <tbody>\n",
       "    <tr>\n",
       "      <th>0</th>\n",
       "      <td>cabazitaxel</td>\n",
       "      <td>chemical</td>\n",
       "      <td>CHEBI:63584</td>\n",
       "      <td>ChEBI</td>\n",
       "      <td>TUBA4A</td>\n",
       "      <td>protein</td>\n",
       "      <td>P68366</td>\n",
       "      <td>UNIPROT</td>\n",
       "      <td>down-regulates activity</td>\n",
       "      <td>binding</td>\n",
       "      <td>...</td>\n",
       "      <td>NaN</td>\n",
       "      <td>NaN</td>\n",
       "      <td>NaN</td>\n",
       "      <td>NaN</td>\n",
       "      <td>21770474</td>\n",
       "      <td>YES</td>\n",
       "      <td>NaN</td>\n",
       "      <td>miannu</td>\n",
       "      <td>Among these, larotaxel (XRP9881, formerly RPR1...</td>\n",
       "      <td>SIGNOR-259340</td>\n",
       "    </tr>\n",
       "    <tr>\n",
       "      <th>1</th>\n",
       "      <td>cabazitaxel</td>\n",
       "      <td>chemical</td>\n",
       "      <td>CHEBI:63584</td>\n",
       "      <td>ChEBI</td>\n",
       "      <td>TUBB1</td>\n",
       "      <td>protein</td>\n",
       "      <td>Q9H4B7</td>\n",
       "      <td>UNIPROT</td>\n",
       "      <td>down-regulates activity</td>\n",
       "      <td>binding</td>\n",
       "      <td>...</td>\n",
       "      <td>NaN</td>\n",
       "      <td>NaN</td>\n",
       "      <td>NaN</td>\n",
       "      <td>NaN</td>\n",
       "      <td>21770474</td>\n",
       "      <td>YES</td>\n",
       "      <td>NaN</td>\n",
       "      <td>miannu</td>\n",
       "      <td>Among these, larotaxel (XRP9881, formerly RPR1...</td>\n",
       "      <td>SIGNOR-259341</td>\n",
       "    </tr>\n",
       "    <tr>\n",
       "      <th>2</th>\n",
       "      <td>docetaxel anhydrous</td>\n",
       "      <td>chemical</td>\n",
       "      <td>CHEBI:4672</td>\n",
       "      <td>ChEBI</td>\n",
       "      <td>TUBA4A</td>\n",
       "      <td>protein</td>\n",
       "      <td>P68366</td>\n",
       "      <td>UNIPROT</td>\n",
       "      <td>down-regulates activity</td>\n",
       "      <td>binding</td>\n",
       "      <td>...</td>\n",
       "      <td>NaN</td>\n",
       "      <td>NaN</td>\n",
       "      <td>NaN</td>\n",
       "      <td>NaN</td>\n",
       "      <td>23337758</td>\n",
       "      <td>YES</td>\n",
       "      <td>NaN</td>\n",
       "      <td>miannu</td>\n",
       "      <td>Tubulin exists in the cell as dimers of α and ...</td>\n",
       "      <td>SIGNOR-259342</td>\n",
       "    </tr>\n",
       "    <tr>\n",
       "      <th>3</th>\n",
       "      <td>docetaxel anhydrous</td>\n",
       "      <td>chemical</td>\n",
       "      <td>CHEBI:4672</td>\n",
       "      <td>ChEBI</td>\n",
       "      <td>TUBB1</td>\n",
       "      <td>protein</td>\n",
       "      <td>Q9H4B7</td>\n",
       "      <td>UNIPROT</td>\n",
       "      <td>down-regulates activity</td>\n",
       "      <td>binding</td>\n",
       "      <td>...</td>\n",
       "      <td>NaN</td>\n",
       "      <td>NaN</td>\n",
       "      <td>NaN</td>\n",
       "      <td>NaN</td>\n",
       "      <td>23337758</td>\n",
       "      <td>YES</td>\n",
       "      <td>NaN</td>\n",
       "      <td>miannu</td>\n",
       "      <td>Tubulin exists in the cell as dimers of α and ...</td>\n",
       "      <td>SIGNOR-259343</td>\n",
       "    </tr>\n",
       "    <tr>\n",
       "      <th>4</th>\n",
       "      <td>eribulin mesylate</td>\n",
       "      <td>chemical</td>\n",
       "      <td>CHEBI:70710</td>\n",
       "      <td>ChEBI</td>\n",
       "      <td>TUBA4A</td>\n",
       "      <td>protein</td>\n",
       "      <td>P68366</td>\n",
       "      <td>UNIPROT</td>\n",
       "      <td>down-regulates activity</td>\n",
       "      <td>binding</td>\n",
       "      <td>...</td>\n",
       "      <td>NaN</td>\n",
       "      <td>NaN</td>\n",
       "      <td>NaN</td>\n",
       "      <td>NaN</td>\n",
       "      <td>16940412</td>\n",
       "      <td>YES</td>\n",
       "      <td>NaN</td>\n",
       "      <td>miannu</td>\n",
       "      <td>The complex marine natural product halichondri...</td>\n",
       "      <td>SIGNOR-259344</td>\n",
       "    </tr>\n",
       "  </tbody>\n",
       "</table>\n",
       "<p>5 rows × 27 columns</p>\n",
       "</div>"
      ],
      "text/plain": [
       "               ENTITYA     TYPEA          IDA DATABASEA ENTITYB    TYPEB  \\\n",
       "0          cabazitaxel  chemical  CHEBI:63584     ChEBI  TUBA4A  protein   \n",
       "1          cabazitaxel  chemical  CHEBI:63584     ChEBI   TUBB1  protein   \n",
       "2  docetaxel anhydrous  chemical   CHEBI:4672     ChEBI  TUBA4A  protein   \n",
       "3  docetaxel anhydrous  chemical   CHEBI:4672     ChEBI   TUBB1  protein   \n",
       "4    eribulin mesylate  chemical  CHEBI:70710     ChEBI  TUBA4A  protein   \n",
       "\n",
       "      IDB DATABASEB                   EFFECT MECHANISM  ... MODIFICATIONA  \\\n",
       "0  P68366   UNIPROT  down-regulates activity   binding  ...           NaN   \n",
       "1  Q9H4B7   UNIPROT  down-regulates activity   binding  ...           NaN   \n",
       "2  P68366   UNIPROT  down-regulates activity   binding  ...           NaN   \n",
       "3  Q9H4B7   UNIPROT  down-regulates activity   binding  ...           NaN   \n",
       "4  P68366   UNIPROT  down-regulates activity   binding  ...           NaN   \n",
       "\n",
       "  MODASEQ MODIFICATIONB MODBSEQ      PMID DIRECT NOTES ANNOTATOR  \\\n",
       "0     NaN           NaN     NaN  21770474    YES   NaN    miannu   \n",
       "1     NaN           NaN     NaN  21770474    YES   NaN    miannu   \n",
       "2     NaN           NaN     NaN  23337758    YES   NaN    miannu   \n",
       "3     NaN           NaN     NaN  23337758    YES   NaN    miannu   \n",
       "4     NaN           NaN     NaN  16940412    YES   NaN    miannu   \n",
       "\n",
       "                                            SENTENCE      SIGNOR_ID  \n",
       "0  Among these, larotaxel (XRP9881, formerly RPR1...  SIGNOR-259340  \n",
       "1  Among these, larotaxel (XRP9881, formerly RPR1...  SIGNOR-259341  \n",
       "2  Tubulin exists in the cell as dimers of α and ...  SIGNOR-259342  \n",
       "3  Tubulin exists in the cell as dimers of α and ...  SIGNOR-259343  \n",
       "4  The complex marine natural product halichondri...  SIGNOR-259344  \n",
       "\n",
       "[5 rows x 27 columns]"
      ]
     },
     "execution_count": 2,
     "metadata": {},
     "output_type": "execute_result"
    }
   ],
   "source": [
    "dataset=pd.read_csv(\"all_data_19_07_19.tsv\",delimiter=\"\\t\")\n",
    "dataset.head()"
   ]
  },
  {
   "cell_type": "markdown",
   "metadata": {},
   "source": [
    "# Data Wrangling and Cleaning"
   ]
  },
  {
   "cell_type": "markdown",
   "metadata": {},
   "source": [
    "## Trim 1: Extract Relevant Columns"
   ]
  },
  {
   "cell_type": "code",
   "execution_count": 3,
   "metadata": {},
   "outputs": [
    {
     "data": {
      "text/html": [
       "<div>\n",
       "<style scoped>\n",
       "    .dataframe tbody tr th:only-of-type {\n",
       "        vertical-align: middle;\n",
       "    }\n",
       "\n",
       "    .dataframe tbody tr th {\n",
       "        vertical-align: top;\n",
       "    }\n",
       "\n",
       "    .dataframe thead th {\n",
       "        text-align: right;\n",
       "    }\n",
       "</style>\n",
       "<table border=\"1\" class=\"dataframe\">\n",
       "  <thead>\n",
       "    <tr style=\"text-align: right;\">\n",
       "      <th></th>\n",
       "      <th>ENTITYA</th>\n",
       "      <th>TYPEA</th>\n",
       "      <th>ENTITYB</th>\n",
       "      <th>TYPEB</th>\n",
       "      <th>MECHANISM</th>\n",
       "      <th>EFFECT</th>\n",
       "      <th>DIRECT</th>\n",
       "    </tr>\n",
       "  </thead>\n",
       "  <tbody>\n",
       "    <tr>\n",
       "      <th>0</th>\n",
       "      <td>cabazitaxel</td>\n",
       "      <td>chemical</td>\n",
       "      <td>TUBA4A</td>\n",
       "      <td>protein</td>\n",
       "      <td>binding</td>\n",
       "      <td>down-regulates activity</td>\n",
       "      <td>YES</td>\n",
       "    </tr>\n",
       "    <tr>\n",
       "      <th>1</th>\n",
       "      <td>cabazitaxel</td>\n",
       "      <td>chemical</td>\n",
       "      <td>TUBB1</td>\n",
       "      <td>protein</td>\n",
       "      <td>binding</td>\n",
       "      <td>down-regulates activity</td>\n",
       "      <td>YES</td>\n",
       "    </tr>\n",
       "    <tr>\n",
       "      <th>2</th>\n",
       "      <td>docetaxel anhydrous</td>\n",
       "      <td>chemical</td>\n",
       "      <td>TUBA4A</td>\n",
       "      <td>protein</td>\n",
       "      <td>binding</td>\n",
       "      <td>down-regulates activity</td>\n",
       "      <td>YES</td>\n",
       "    </tr>\n",
       "    <tr>\n",
       "      <th>3</th>\n",
       "      <td>docetaxel anhydrous</td>\n",
       "      <td>chemical</td>\n",
       "      <td>TUBB1</td>\n",
       "      <td>protein</td>\n",
       "      <td>binding</td>\n",
       "      <td>down-regulates activity</td>\n",
       "      <td>YES</td>\n",
       "    </tr>\n",
       "    <tr>\n",
       "      <th>4</th>\n",
       "      <td>eribulin mesylate</td>\n",
       "      <td>chemical</td>\n",
       "      <td>TUBA4A</td>\n",
       "      <td>protein</td>\n",
       "      <td>binding</td>\n",
       "      <td>down-regulates activity</td>\n",
       "      <td>YES</td>\n",
       "    </tr>\n",
       "  </tbody>\n",
       "</table>\n",
       "</div>"
      ],
      "text/plain": [
       "               ENTITYA     TYPEA ENTITYB    TYPEB MECHANISM  \\\n",
       "0          cabazitaxel  chemical  TUBA4A  protein   binding   \n",
       "1          cabazitaxel  chemical   TUBB1  protein   binding   \n",
       "2  docetaxel anhydrous  chemical  TUBA4A  protein   binding   \n",
       "3  docetaxel anhydrous  chemical   TUBB1  protein   binding   \n",
       "4    eribulin mesylate  chemical  TUBA4A  protein   binding   \n",
       "\n",
       "                    EFFECT DIRECT  \n",
       "0  down-regulates activity    YES  \n",
       "1  down-regulates activity    YES  \n",
       "2  down-regulates activity    YES  \n",
       "3  down-regulates activity    YES  \n",
       "4  down-regulates activity    YES  "
      ]
     },
     "execution_count": 3,
     "metadata": {},
     "output_type": "execute_result"
    }
   ],
   "source": [
    "df = dataset[['ENTITYA','TYPEA','ENTITYB','TYPEB','MECHANISM','EFFECT','DIRECT']]\n",
    "df.head()"
   ]
  },
  {
   "cell_type": "code",
   "execution_count": 4,
   "metadata": {},
   "outputs": [
    {
     "name": "stdout",
     "output_type": "stream",
     "text": [
      "<class 'pandas.core.frame.DataFrame'>\n",
      "RangeIndex: 22787 entries, 0 to 22786\n",
      "Data columns (total 7 columns):\n",
      " #   Column     Non-Null Count  Dtype \n",
      "---  ------     --------------  ----- \n",
      " 0   ENTITYA    22787 non-null  object\n",
      " 1   TYPEA      22787 non-null  object\n",
      " 2   ENTITYB    22787 non-null  object\n",
      " 3   TYPEB      22787 non-null  object\n",
      " 4   MECHANISM  21163 non-null  object\n",
      " 5   EFFECT     22787 non-null  object\n",
      " 6   DIRECT     22787 non-null  object\n",
      "dtypes: object(7)\n",
      "memory usage: 1.2+ MB\n",
      "None\n",
      "-------------------------------\n",
      "protein           18463\n",
      "chemical           2150\n",
      "complex             907\n",
      "proteinfamily       655\n",
      "smallmolecule       378\n",
      "stimulus             99\n",
      "fusion protein       82\n",
      "mirna                32\n",
      "phenotype            21\n",
      "Name: TYPEA, dtype: int64\n",
      "-------------------------------\n",
      "protein           20412\n",
      "complex            1155\n",
      "phenotype           624\n",
      "proteinfamily       442\n",
      "smallmolecule       111\n",
      "mirna                20\n",
      "fusion protein       16\n",
      "chemical              4\n",
      "stimulus              3\n",
      "Name: TYPEB, dtype: int64\n"
     ]
    }
   ],
   "source": [
    "print(df.info())\n",
    "print('-------------------------------')\n",
    "print(df['TYPEA'].value_counts())\n",
    "print('-------------------------------')\n",
    "print(df['TYPEB'].value_counts())"
   ]
  },
  {
   "cell_type": "markdown",
   "metadata": {},
   "source": [
    "We further trim our dataset by limiting our entities to either proteins, complexes, or protein families."
   ]
  },
  {
   "cell_type": "code",
   "execution_count": 5,
   "metadata": {},
   "outputs": [],
   "source": [
    "relevant_types = ['protein','complex','proteinfamily']\n",
    "df = df[df['TYPEA'].isin(relevant_types)]\n",
    "df = df[df['TYPEB'].isin(relevant_types)]"
   ]
  },
  {
   "cell_type": "code",
   "execution_count": 6,
   "metadata": {},
   "outputs": [
    {
     "name": "stdout",
     "output_type": "stream",
     "text": [
      "<class 'pandas.core.frame.DataFrame'>\n",
      "Int64Index: 19289 entries, 10 to 22786\n",
      "Data columns (total 7 columns):\n",
      " #   Column     Non-Null Count  Dtype \n",
      "---  ------     --------------  ----- \n",
      " 0   ENTITYA    19289 non-null  object\n",
      " 1   TYPEA      19289 non-null  object\n",
      " 2   ENTITYB    19289 non-null  object\n",
      " 3   TYPEB      19289 non-null  object\n",
      " 4   MECHANISM  18461 non-null  object\n",
      " 5   EFFECT     19289 non-null  object\n",
      " 6   DIRECT     19289 non-null  object\n",
      "dtypes: object(7)\n",
      "memory usage: 1.2+ MB\n",
      "None\n",
      "-------------------------------\n",
      "protein          17836\n",
      "complex            828\n",
      "proteinfamily      625\n",
      "Name: TYPEA, dtype: int64\n",
      "-------------------------------\n",
      "protein          17805\n",
      "complex           1074\n",
      "proteinfamily      410\n",
      "Name: TYPEB, dtype: int64\n"
     ]
    }
   ],
   "source": [
    "print(df.info())\n",
    "print('-------------------------------')\n",
    "print(df['TYPEA'].value_counts())\n",
    "print('-------------------------------')\n",
    "print(df['TYPEB'].value_counts())"
   ]
  },
  {
   "cell_type": "markdown",
   "metadata": {},
   "source": [
    "We further trim our dataset by limiting our connections to direct connections"
   ]
  },
  {
   "cell_type": "code",
   "execution_count": 7,
   "metadata": {},
   "outputs": [
    {
     "name": "stdout",
     "output_type": "stream",
     "text": [
      "<class 'pandas.core.frame.DataFrame'>\n",
      "Int64Index: 16260 entries, 10 to 22786\n",
      "Data columns (total 7 columns):\n",
      " #   Column     Non-Null Count  Dtype \n",
      "---  ------     --------------  ----- \n",
      " 0   ENTITYA    16260 non-null  object\n",
      " 1   TYPEA      16260 non-null  object\n",
      " 2   ENTITYB    16260 non-null  object\n",
      " 3   TYPEB      16260 non-null  object\n",
      " 4   MECHANISM  16151 non-null  object\n",
      " 5   EFFECT     16260 non-null  object\n",
      " 6   DIRECT     16260 non-null  object\n",
      "dtypes: object(7)\n",
      "memory usage: 1016.2+ KB\n",
      "None\n",
      "-------------------------------\n",
      "protein          15072\n",
      "complex            623\n",
      "proteinfamily      565\n",
      "Name: TYPEA, dtype: int64\n",
      "-------------------------------\n",
      "protein          14875\n",
      "complex           1032\n",
      "proteinfamily      353\n",
      "Name: TYPEB, dtype: int64\n"
     ]
    }
   ],
   "source": [
    "df = df[df['DIRECT'] == 'YES']\n",
    "print(df.info())\n",
    "print('-------------------------------')\n",
    "print(df['TYPEA'].value_counts())\n",
    "print('-------------------------------')\n",
    "print(df['TYPEB'].value_counts())"
   ]
  },
  {
   "cell_type": "markdown",
   "metadata": {},
   "source": [
    "Lastly, we remove vagueness from EFFECT by removing the all interactions with an unknown effect."
   ]
  },
  {
   "cell_type": "code",
   "execution_count": 8,
   "metadata": {},
   "outputs": [
    {
     "name": "stdout",
     "output_type": "stream",
     "text": [
      "<class 'pandas.core.frame.DataFrame'>\n",
      "Int64Index: 15378 entries, 11 to 22786\n",
      "Data columns (total 7 columns):\n",
      " #   Column     Non-Null Count  Dtype \n",
      "---  ------     --------------  ----- \n",
      " 0   ENTITYA    15378 non-null  object\n",
      " 1   TYPEA      15378 non-null  object\n",
      " 2   ENTITYB    15378 non-null  object\n",
      " 3   TYPEB      15378 non-null  object\n",
      " 4   MECHANISM  15271 non-null  object\n",
      " 5   EFFECT     15378 non-null  object\n",
      " 6   DIRECT     15378 non-null  object\n",
      "dtypes: object(7)\n",
      "memory usage: 961.1+ KB\n",
      "None\n",
      "-------------------------------\n",
      "up-regulates                                  5070\n",
      "up-regulates activity                         4047\n",
      "down-regulates                                2820\n",
      "down-regulates activity                       2036\n",
      "form complex                                   572\n",
      "down-regulates quantity by destabilization     293\n",
      "up-regulates quantity by expression            223\n",
      "up-regulates quantity by stabilization         135\n",
      "down-regulates quantity by repression           68\n",
      "up-regulates quantity                           66\n",
      "down-regulates quantity                         48\n",
      "Name: EFFECT, dtype: int64\n"
     ]
    }
   ],
   "source": [
    "df = df[df['EFFECT'] != 'unknown']\n",
    "print(df.info())\n",
    "print('-------------------------------')\n",
    "print(df['EFFECT'].value_counts())"
   ]
  },
  {
   "cell_type": "markdown",
   "metadata": {},
   "source": [
    "## Simplifying Column Values"
   ]
  },
  {
   "cell_type": "markdown",
   "metadata": {},
   "source": [
    "For the purpose of this study, we will be simplifying our effects column by generalizing the different types to either up-regulating, down-regulating, or complex-forming."
   ]
  },
  {
   "cell_type": "code",
   "execution_count": 9,
   "metadata": {},
   "outputs": [
    {
     "data": {
      "text/plain": [
       "up         9541\n",
       "down       5265\n",
       "complex     572\n",
       "Name: EFFECT, dtype: int64"
      ]
     },
     "execution_count": 9,
     "metadata": {},
     "output_type": "execute_result"
    }
   ],
   "source": [
    "df['EFFECT'].replace(regex={r'(up-regulates).*$': 'up', r'(down-regulates).*$': 'down','form complex':'complex'},inplace = True)\n",
    "df['EFFECT'].value_counts()"
   ]
  },
  {
   "cell_type": "markdown",
   "metadata": {},
   "source": [
    "# Loading Graph via NetworkX"
   ]
  },
  {
   "cell_type": "code",
   "execution_count": 10,
   "metadata": {},
   "outputs": [],
   "source": [
    "df_graph = df[['ENTITYA','ENTITYB','MECHANISM','EFFECT']]\n",
    "Graph = nx.from_pandas_edgelist(df_graph,'ENTITYA','ENTITYB',edge_attr = ['MECHANISM','EFFECT'], create_using = nx.Graph())\n",
    "G_mech = nx.get_edge_attributes(Graph,'MECHANISM')\n",
    "G_effect = nx.get_edge_attributes(Graph,'EFFECT')"
   ]
  },
  {
   "cell_type": "markdown",
   "metadata": {},
   "source": [
    "## Network Trimming with respect to effect\n",
    "\n",
    "We trim and retain edges within a network with respect to the following condition statements:\n",
    "\n",
    "* The **succeeding/preceeding node** must have the **same type of regulation** as the node of interest, else trim it off **unless** \\\n",
    "* The connection is a **binding mechanism** \\\n",
    "* The **succeeding/preceeding node** is a **complex** \\\n",
    "* **Parameters are easily configured**\n",
    "\n",
    "To initialize our trimming function, we make an initial seed with no nodes and edges that we will grow our trimmed network from."
   ]
  },
  {
   "cell_type": "code",
   "execution_count": 17,
   "metadata": {},
   "outputs": [],
   "source": [
    "def build_sappling(seed):\n",
    "    G = nx.Graph()\n",
    "    states = {seed:['root']}\n",
    "    edges = set(Graph.edges(seed))\n",
    "    G.add_edges_from(Graph.edges(seed))\n",
    "    for edge in edges:\n",
    "        try:\n",
    "            state = G_effect[edge]\n",
    "            states[edge[0]] = [state]\n",
    "        except KeyError:\n",
    "            edge_inv = tuple([edge[1], edge[0]])\n",
    "            state = G_effect[edge_inv]\n",
    "            states[edge[1]] = [state]\n",
    "            \n",
    "    return G,states"
   ]
  },
  {
   "cell_type": "code",
   "execution_count": 18,
   "metadata": {},
   "outputs": [
    {
     "data": {
      "text/plain": [
       "EdgeView([('FOXM1', 'CDK2'), ('FOXM1', 'CHEK2'), ('FOXM1', 'CDK1'), ('FOXM1', 'CDK4'), ('FOXM1', 'CyclinB/CDK1'), ('FOXM1', 'PLK1')])"
      ]
     },
     "execution_count": 18,
     "metadata": {},
     "output_type": "execute_result"
    }
   ],
   "source": [
    "sappling,states = build_sappling('FOXM1')\n",
    "sappling.edges()"
   ]
  },
  {
   "cell_type": "code",
   "execution_count": 19,
   "metadata": {},
   "outputs": [],
   "source": [
    "def remove_copies(branches):\n",
    "    unique_branches = []\n",
    "    for branch in branches:\n",
    "        branch1 = branch\n",
    "        branch2 = (branch[1],branch[0])\n",
    "        if (branch1 or branch2) not in set (sappling.edges):\n",
    "            unique_branches.append(branch1)\n",
    "    return unique_branches\n",
    "\n",
    "\n",
    "def grow_tree(root,tree_branches,states):\n",
    "    orig_edges = set(root.edges())\n",
    "    time.sleep(1.0)\n",
    "    for branch in tqdm(set(tree_branches)):\n",
    "        bud = branch[1]\n",
    "        try:\n",
    "            bud_state = states[bud]\n",
    "        except KeyError:\n",
    "            continue\n",
    "        potential_branches = remove_copies(set(Graph.edges(bud)))\n",
    "        for pb in potential_branches:\n",
    "            try:\n",
    "                state = G_effect[pb]\n",
    "                mech = G_mech[pb]\n",
    "                node = pb[1]\n",
    "            except KeyError:\n",
    "                pb_inv = (pb[1],pb[0])\n",
    "                state = G_effect[pb_inv]\n",
    "                mech = G_mech[pb_inv]\n",
    "                node = pb[0]\n",
    "            #print(node)\n",
    "            if ((state in bud_state) or ('complex' in bud_state) or ('complex' in state) or (mech == 'binding')):\n",
    "                root.add_edge(pb[0],pb[1])\n",
    "                if node not in states.keys():\n",
    "                    states[node] = [state]\n",
    "                elif node in states.keys():\n",
    "                    states_vals = set(states[node]).union(set([state]))\n",
    "                    states[node] = list(states_vals)\n",
    "    updated_edges = set(root.edges())\n",
    "    edge_diff = len(updated_edges)-len(orig_edges)\n",
    "    new_edges = updated_edges.difference(orig_edges)\n",
    "    time.sleep(1.0)\n",
    "    print('# of new edges:',edge_diff)\n",
    "    #print(new_edges)\n",
    "    return edge_diff,new_edges\n",
    "                           \n",
    "#grow_tree(sappling,sappling.edges(),states)\n",
    "#states"
   ]
  },
  {
   "cell_type": "code",
   "execution_count": 20,
   "metadata": {},
   "outputs": [
    {
     "name": "stdout",
     "output_type": "stream",
     "text": [
      "-------------\n",
      "@ Level 0:\n"
     ]
    },
    {
     "name": "stderr",
     "output_type": "stream",
     "text": [
      "100%|███████████████████████████████████████████████████████████████████████████████████| 6/6 [00:00<00:00, 193.51it/s]\n"
     ]
    },
    {
     "name": "stdout",
     "output_type": "stream",
     "text": [
      "# of new edges: 205\n",
      "-------------\n",
      "@ Level 1:\n"
     ]
    },
    {
     "name": "stderr",
     "output_type": "stream",
     "text": [
      "100%|███████████████████████████████████████████████████████████████████████████████| 205/205 [00:01<00:00, 110.97it/s]\n"
     ]
    },
    {
     "name": "stdout",
     "output_type": "stream",
     "text": [
      "# of new edges: 1186\n",
      "-------------\n",
      "@ Level 2:\n"
     ]
    },
    {
     "name": "stderr",
     "output_type": "stream",
     "text": [
      "100%|██████████████████████████████████████████████████████████████████████████████| 1186/1186 [00:46<00:00, 25.44it/s]\n"
     ]
    },
    {
     "name": "stdout",
     "output_type": "stream",
     "text": [
      "# of new edges: 2751\n",
      "-------------\n",
      "@ Level 3:\n"
     ]
    },
    {
     "name": "stderr",
     "output_type": "stream",
     "text": [
      "100%|██████████████████████████████████████████████████████████████████████████████| 2751/2751 [02:50<00:00, 16.14it/s]\n"
     ]
    },
    {
     "name": "stdout",
     "output_type": "stream",
     "text": [
      "# of new edges: 2448\n",
      "-------------\n",
      "@ Level 4:\n"
     ]
    },
    {
     "name": "stderr",
     "output_type": "stream",
     "text": [
      "100%|██████████████████████████████████████████████████████████████████████████████| 2448/2448 [02:19<00:00, 17.56it/s]\n"
     ]
    },
    {
     "name": "stdout",
     "output_type": "stream",
     "text": [
      "# of new edges: 777\n",
      "-------------\n",
      "@ Level 5:\n"
     ]
    },
    {
     "name": "stderr",
     "output_type": "stream",
     "text": [
      "100%|████████████████████████████████████████████████████████████████████████████████| 777/777 [00:35<00:00, 22.06it/s]\n"
     ]
    },
    {
     "name": "stdout",
     "output_type": "stream",
     "text": [
      "# of new edges: 155\n",
      "-------------\n",
      "@ Level 6:\n"
     ]
    },
    {
     "name": "stderr",
     "output_type": "stream",
     "text": [
      "100%|████████████████████████████████████████████████████████████████████████████████| 155/155 [00:03<00:00, 39.26it/s]\n"
     ]
    },
    {
     "name": "stdout",
     "output_type": "stream",
     "text": [
      "# of new edges: 14\n",
      "-------------\n",
      "@ Level 7:\n"
     ]
    },
    {
     "name": "stderr",
     "output_type": "stream",
     "text": [
      "100%|██████████████████████████████████████████████████████████████████████████████████| 14/14 [00:00<00:00, 93.31it/s]\n"
     ]
    },
    {
     "name": "stdout",
     "output_type": "stream",
     "text": [
      "# of new edges: 0\n"
     ]
    }
   ],
   "source": [
    "edge_diff = 1\n",
    "lvl = 0\n",
    "while edge_diff != 0:\n",
    "    print('-------------')\n",
    "    print(f'@ Level {lvl}:')\n",
    "    if lvl == 0:\n",
    "        edge_diff,new_edges = grow_tree(sappling,sappling.edges(),states)\n",
    "    else:\n",
    "        edge_diff,new_edges = grow_tree(sappling,new_edges,states)\n",
    "    lvl +=1"
   ]
  },
  {
   "cell_type": "code",
   "execution_count": null,
   "metadata": {},
   "outputs": [],
   "source": [
    "print('Original Network Logistics:')\n",
    "print('----------------------------------------')\n",
    "print(f'Total Nodes:{len(Graph.nodes())}')\n",
    "print(f'Total Edges:{len(Graph.edges())}')\n",
    "print('----------------------------------------')\n",
    "print('Trimmed Network Logistics:')\n",
    "print('----------------------------------------')\n",
    "print(f'Total Nodes:{len(sappling.nodes())}')\n",
    "print(f'Total Edges:{len(sappling.edges())}')\n",
    "print('----------------------------------------')"
   ]
  },
  {
   "cell_type": "code",
   "execution_count": null,
   "metadata": {},
   "outputs": [],
   "source": []
  },
  {
   "cell_type": "code",
   "execution_count": null,
   "metadata": {},
   "outputs": [],
   "source": []
  }
 ],
 "metadata": {
  "kernelspec": {
   "display_name": "Python 3",
   "language": "python",
   "name": "python3"
  },
  "language_info": {
   "codemirror_mode": {
    "name": "ipython",
    "version": 3
   },
   "file_extension": ".py",
   "mimetype": "text/x-python",
   "name": "python",
   "nbconvert_exporter": "python",
   "pygments_lexer": "ipython3",
   "version": "3.6.10"
  }
 },
 "nbformat": 4,
 "nbformat_minor": 4
}
