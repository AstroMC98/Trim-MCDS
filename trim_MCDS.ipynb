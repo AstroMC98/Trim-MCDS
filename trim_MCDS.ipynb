{
  "nbformat": 4,
  "nbformat_minor": 0,
  "metadata": {
    "colab": {
      "name": "trim_MCDS.ipynb",
      "version": "0.3.2",
      "provenance": [],
      "toc_visible": true
    },
    "kernelspec": {
      "name": "python3",
      "display_name": "Python 3"
    },
    "accelerator": "TPU"
  },
  "cells": [
    {
      "cell_type": "markdown",
      "metadata": {
        "id": "HDOINlt5gK_k",
        "colab_type": "text"
      },
      "source": [
        "#Mounting Google Drive Files"
      ]
    },
    {
      "cell_type": "code",
      "metadata": {
        "id": "m997YnEjgIS7",
        "colab_type": "code",
        "colab": {}
      },
      "source": [
        "from google.colab import drive\n",
        "drive.mount('/content/drive')"
      ],
      "execution_count": 0,
      "outputs": []
    },
    {
      "cell_type": "markdown",
      "metadata": {
        "id": "TpxflbeUgI34",
        "colab_type": "text"
      },
      "source": [
        "#Importing Python Packages"
      ]
    },
    {
      "cell_type": "code",
      "metadata": {
        "id": "MtnqdGedgVO5",
        "colab_type": "code",
        "colab": {}
      },
      "source": [
        "import networkx as nx\n",
        "import matplotlib.pyplot as plt\n",
        "import numpy as np\n",
        "import pandas as pd\n",
        "from statistics import mean,mode,median \n",
        "import csv\n",
        "%matplotlib inline"
      ],
      "execution_count": 0,
      "outputs": []
    },
    {
      "cell_type": "markdown",
      "metadata": {
        "id": "mxvE88-YgajX",
        "colab_type": "text"
      },
      "source": [
        "#Loading the Signor 2.0 Database"
      ]
    },
    {
      "cell_type": "code",
      "metadata": {
        "id": "llpKTarGglGi",
        "colab_type": "code",
        "colab": {}
      },
      "source": [
        "dataset=pd.read_csv(\"/content/drive/My Drive/BioInformatics/Protein-Protein Interaction/SignorDataBase.tsv\",delimiter=\"\\t\")"
      ],
      "execution_count": 0,
      "outputs": []
    },
    {
      "cell_type": "code",
      "metadata": {
        "id": "MLVoh3vmhClz",
        "colab_type": "code",
        "outputId": "fe5a44ff-468e-4ac6-ff8e-36f70cbd9c45",
        "colab": {
          "base_uri": "https://localhost:8080/",
          "height": 556
        }
      },
      "source": [
        "dataset.head()"
      ],
      "execution_count": 7,
      "outputs": [
        {
          "output_type": "execute_result",
          "data": {
            "text/html": [
              "<div>\n",
              "<style scoped>\n",
              "    .dataframe tbody tr th:only-of-type {\n",
              "        vertical-align: middle;\n",
              "    }\n",
              "\n",
              "    .dataframe tbody tr th {\n",
              "        vertical-align: top;\n",
              "    }\n",
              "\n",
              "    .dataframe thead th {\n",
              "        text-align: right;\n",
              "    }\n",
              "</style>\n",
              "<table border=\"1\" class=\"dataframe\">\n",
              "  <thead>\n",
              "    <tr style=\"text-align: right;\">\n",
              "      <th></th>\n",
              "      <th>ENTITYA</th>\n",
              "      <th>TYPEA</th>\n",
              "      <th>IDA</th>\n",
              "      <th>DATABASEA</th>\n",
              "      <th>ENTITYB</th>\n",
              "      <th>TYPEB</th>\n",
              "      <th>IDB</th>\n",
              "      <th>DATABASEB</th>\n",
              "      <th>EFFECT</th>\n",
              "      <th>MECHANISM</th>\n",
              "      <th>RESIDUE</th>\n",
              "      <th>SEQUENCE</th>\n",
              "      <th>TAX_ID</th>\n",
              "      <th>CELL_DATA</th>\n",
              "      <th>TISSUE_DATA</th>\n",
              "      <th>MODULATOR_COMPLEX</th>\n",
              "      <th>TARGET_COMPLEX</th>\n",
              "      <th>MODIFICATIONA</th>\n",
              "      <th>MODASEQ</th>\n",
              "      <th>MODIFICATIONB</th>\n",
              "      <th>MODBSEQ</th>\n",
              "      <th>PMID</th>\n",
              "      <th>DIRECT</th>\n",
              "      <th>NOTES</th>\n",
              "      <th>ANNOTATOR</th>\n",
              "      <th>SENTENCE</th>\n",
              "      <th>SIGNOR_ID</th>\n",
              "    </tr>\n",
              "  </thead>\n",
              "  <tbody>\n",
              "    <tr>\n",
              "      <th>0</th>\n",
              "      <td>PLCB2</td>\n",
              "      <td>protein</td>\n",
              "      <td>Q00722</td>\n",
              "      <td>UNIPROT</td>\n",
              "      <td>superoxide</td>\n",
              "      <td>smallmolecule</td>\n",
              "      <td>CHEBI:18421</td>\n",
              "      <td>ChEBI</td>\n",
              "      <td>up-regulates quantity</td>\n",
              "      <td>NaN</td>\n",
              "      <td>NaN</td>\n",
              "      <td>NaN</td>\n",
              "      <td>NaN</td>\n",
              "      <td>NaN</td>\n",
              "      <td>NaN</td>\n",
              "      <td>NaN</td>\n",
              "      <td>NaN</td>\n",
              "      <td>NaN</td>\n",
              "      <td>NaN</td>\n",
              "      <td>NaN</td>\n",
              "      <td>NaN</td>\n",
              "      <td>23994464</td>\n",
              "      <td>NO</td>\n",
              "      <td>NaN</td>\n",
              "      <td>apalma</td>\n",
              "      <td>The PI3Kγ pathway (but not PLCβ2/3) is require...</td>\n",
              "      <td>SIGNOR-255013</td>\n",
              "    </tr>\n",
              "    <tr>\n",
              "      <th>1</th>\n",
              "      <td>PLCB3</td>\n",
              "      <td>protein</td>\n",
              "      <td>Q01970</td>\n",
              "      <td>UNIPROT</td>\n",
              "      <td>1D-myo-inositol 1,4,5-trisphosphate</td>\n",
              "      <td>smallmolecule</td>\n",
              "      <td>CHEBI:16595</td>\n",
              "      <td>ChEBI</td>\n",
              "      <td>up-regulates quantity</td>\n",
              "      <td>small molecule catalysis</td>\n",
              "      <td>NaN</td>\n",
              "      <td>NaN</td>\n",
              "      <td>9606</td>\n",
              "      <td>NaN</td>\n",
              "      <td>NaN</td>\n",
              "      <td>NaN</td>\n",
              "      <td>NaN</td>\n",
              "      <td>NaN</td>\n",
              "      <td>NaN</td>\n",
              "      <td>NaN</td>\n",
              "      <td>NaN</td>\n",
              "      <td>23994464</td>\n",
              "      <td>NO</td>\n",
              "      <td>NaN</td>\n",
              "      <td>apalma</td>\n",
              "      <td>The first phase of this signal is likely media...</td>\n",
              "      <td>SIGNOR-255018</td>\n",
              "    </tr>\n",
              "    <tr>\n",
              "      <th>2</th>\n",
              "      <td>RORC</td>\n",
              "      <td>protein</td>\n",
              "      <td>P51449</td>\n",
              "      <td>UNIPROT</td>\n",
              "      <td>IL17A</td>\n",
              "      <td>protein</td>\n",
              "      <td>Q16552</td>\n",
              "      <td>UNIPROT</td>\n",
              "      <td>up-regulates</td>\n",
              "      <td>transcriptional regulation</td>\n",
              "      <td>NaN</td>\n",
              "      <td>NaN</td>\n",
              "      <td>9606</td>\n",
              "      <td>NaN</td>\n",
              "      <td>NaN</td>\n",
              "      <td>NaN</td>\n",
              "      <td>NaN</td>\n",
              "      <td>NaN</td>\n",
              "      <td>NaN</td>\n",
              "      <td>NaN</td>\n",
              "      <td>NaN</td>\n",
              "      <td>16990136</td>\n",
              "      <td>YES</td>\n",
              "      <td>NaN</td>\n",
              "      <td>mrosina</td>\n",
              "      <td>We found that RORgt is required for the consti...</td>\n",
              "      <td>SIGNOR-255029</td>\n",
              "    </tr>\n",
              "    <tr>\n",
              "      <th>3</th>\n",
              "      <td>RORC</td>\n",
              "      <td>protein</td>\n",
              "      <td>P51449</td>\n",
              "      <td>UNIPROT</td>\n",
              "      <td>Th17</td>\n",
              "      <td>phenotype</td>\n",
              "      <td>SIGNOR-PH94</td>\n",
              "      <td>SIGNOR</td>\n",
              "      <td>up-regulates</td>\n",
              "      <td>NaN</td>\n",
              "      <td>NaN</td>\n",
              "      <td>NaN</td>\n",
              "      <td>9606</td>\n",
              "      <td>NaN</td>\n",
              "      <td>NaN</td>\n",
              "      <td>NaN</td>\n",
              "      <td>NaN</td>\n",
              "      <td>NaN</td>\n",
              "      <td>NaN</td>\n",
              "      <td>NaN</td>\n",
              "      <td>NaN</td>\n",
              "      <td>16990136</td>\n",
              "      <td>YES</td>\n",
              "      <td>NaN</td>\n",
              "      <td>MARCO ROSINA</td>\n",
              "      <td>Our results demonstrate that RORgt is the tran...</td>\n",
              "      <td>SIGNOR-255028</td>\n",
              "    </tr>\n",
              "    <tr>\n",
              "      <th>4</th>\n",
              "      <td>SRC</td>\n",
              "      <td>proteinfamily</td>\n",
              "      <td>SIGNOR-PF32</td>\n",
              "      <td>SIGNOR</td>\n",
              "      <td>Chemotaxis</td>\n",
              "      <td>phenotype</td>\n",
              "      <td>SIGNOR-PH93</td>\n",
              "      <td>SIGNOR</td>\n",
              "      <td>up-regulates</td>\n",
              "      <td>NaN</td>\n",
              "      <td>NaN</td>\n",
              "      <td>NaN</td>\n",
              "      <td>9606</td>\n",
              "      <td>BTO:0000830</td>\n",
              "      <td>NaN</td>\n",
              "      <td>NaN</td>\n",
              "      <td>NaN</td>\n",
              "      <td>NaN</td>\n",
              "      <td>NaN</td>\n",
              "      <td>NaN</td>\n",
              "      <td>NaN</td>\n",
              "      <td>15526160</td>\n",
              "      <td>NO</td>\n",
              "      <td>NaN</td>\n",
              "      <td>apalma</td>\n",
              "      <td>The SFK family of tyrosine kinases is named af...</td>\n",
              "      <td>SIGNOR-254996</td>\n",
              "    </tr>\n",
              "  </tbody>\n",
              "</table>\n",
              "</div>"
            ],
            "text/plain": [
              "  ENTITYA  ...      SIGNOR_ID\n",
              "0   PLCB2  ...  SIGNOR-255013\n",
              "1   PLCB3  ...  SIGNOR-255018\n",
              "2    RORC  ...  SIGNOR-255029\n",
              "3    RORC  ...  SIGNOR-255028\n",
              "4     SRC  ...  SIGNOR-254996\n",
              "\n",
              "[5 rows x 27 columns]"
            ]
          },
          "metadata": {
            "tags": []
          },
          "execution_count": 7
        }
      ]
    },
    {
      "cell_type": "code",
      "metadata": {
        "id": "0cOX_nZjgmr1",
        "colab_type": "code",
        "colab": {}
      },
      "source": [
        "source = list(dataset[\"ENTITYA\"])\n",
        "type_A = list(dataset[\"TYPEA\"])\n",
        "target = list(dataset[\"ENTITYB\"])\n",
        "type_B = list(dataset[\"TYPEB\"])\n",
        "interaction = list(dataset[\"MECHANISM\"])\n",
        "regulation = list(dataset[\"EFFECT\"])\n",
        "direct = list(dataset[\"DIRECT\"])"
      ],
      "execution_count": 0,
      "outputs": []
    },
    {
      "cell_type": "markdown",
      "metadata": {
        "id": "vmdByXi-iBU1",
        "colab_type": "text"
      },
      "source": [
        "##Save specific columns to a file I"
      ]
    },
    {
      "cell_type": "code",
      "metadata": {
        "id": "quO5awKmguTG",
        "colab_type": "code",
        "colab": {}
      },
      "source": [
        "saved_proteins = []\n",
        "with open('signor_pairs.txt', 'w') as filehandle:\n",
        "  for i in range(len(source)):\n",
        "    first= source[i]\n",
        "    first = first.replace(\" \",\"_\")\n",
        "    second = target[i]\n",
        "    second = second.replace(\" \",\"_\")\n",
        "    third = regulation[i]\n",
        "    fourth = interaction[i]\n",
        "    save = tuple([first,second,third,fourth])\n",
        "    if save in saved_proteins:\n",
        "      continue\n",
        "    else:\n",
        "      saved_proteins.append(save)\n",
        "    if (type_A[i] or type_B[i]) != (\"protein\" or \"complex\" or \"proteinfamily\"):\n",
        "      continue\n",
        "    elif direct[i] == \"NO\":\n",
        "      continue\n",
        "    else:\n",
        "      filehandle.writelines(\"%s\\t%s\\t%s\\t%s\\n\" % (first,second,third,fourth))"
      ],
      "execution_count": 0,
      "outputs": []
    },
    {
      "cell_type": "code",
      "metadata": {
        "id": "NBi9Yb5oh3pr",
        "colab_type": "code",
        "colab": {}
      },
      "source": [
        "data_signor=pd.read_csv(\"signor_pairs.txt\",delimiter=\"\\t\", names = [\"source\",\"target\",\"regulation\",\"interaction\"])"
      ],
      "execution_count": 0,
      "outputs": []
    },
    {
      "cell_type": "markdown",
      "metadata": {
        "id": "P4UfwVKBiWIO",
        "colab_type": "text"
      },
      "source": [
        "##Save specific columns to a file II"
      ]
    },
    {
      "cell_type": "code",
      "metadata": {
        "id": "eJmmUyFTh_ck",
        "colab_type": "code",
        "colab": {}
      },
      "source": [
        "source2 = list(data_signor[\"source\"])\n",
        "target2 = list(data_signor[\"target\"])\n",
        "regulation2 = list(data_signor[\"regulation\"])\n",
        "interaction2 = list(data_signor[\"interaction\"])\n",
        "\n",
        "with open('signor_edges.txt', 'w') as filehandle:\n",
        "  for i in range(len(source2)):\n",
        "    first = source2[i]\n",
        "    second = target2[i]\n",
        "    filehandle.writelines(\"%s\\t%s\\n\" % (first,second))"
      ],
      "execution_count": 0,
      "outputs": []
    },
    {
      "cell_type": "code",
      "metadata": {
        "id": "w8GsC1zzmhCy",
        "colab_type": "code",
        "outputId": "fc67339d-1e82-4784-ad7e-4802da5256db",
        "colab": {
          "base_uri": "https://localhost:8080/",
          "height": 34
        }
      },
      "source": [
        "len(source2)"
      ],
      "execution_count": 31,
      "outputs": [
        {
          "output_type": "execute_result",
          "data": {
            "text/plain": [
              "10698"
            ]
          },
          "metadata": {
            "tags": []
          },
          "execution_count": 31
        }
      ]
    },
    {
      "cell_type": "markdown",
      "metadata": {
        "id": "XrKYr05qijOz",
        "colab_type": "text"
      },
      "source": [
        "#Load network into a directed graph"
      ]
    },
    {
      "cell_type": "code",
      "metadata": {
        "id": "MKe3WFKKiZ1Q",
        "colab_type": "code",
        "colab": {}
      },
      "source": [
        "P = nx.read_edgelist('signor_edges.txt', create_using = nx.DiGraph)"
      ],
      "execution_count": 0,
      "outputs": []
    },
    {
      "cell_type": "code",
      "metadata": {
        "id": "us8dKEzfirb5",
        "colab_type": "code",
        "colab": {}
      },
      "source": [
        "protein_pairs = []\n",
        "for i in range(len(source2)):\n",
        "  a = source2[i]\n",
        "  b = target2[i]\n",
        "  ab = tuple([a,b])\n",
        "  protein_pairs.append(ab)"
      ],
      "execution_count": 0,
      "outputs": []
    },
    {
      "cell_type": "code",
      "metadata": {
        "id": "rQeJzm-VmsfU",
        "colab_type": "code",
        "outputId": "7ab22ca5-6017-46d2-ab63-0ec75da93674",
        "colab": {
          "base_uri": "https://localhost:8080/",
          "height": 34
        }
      },
      "source": [
        "len(P.edges)"
      ],
      "execution_count": 15,
      "outputs": [
        {
          "output_type": "execute_result",
          "data": {
            "text/plain": [
              "9939"
            ]
          },
          "metadata": {
            "tags": []
          },
          "execution_count": 15
        }
      ]
    },
    {
      "cell_type": "markdown",
      "metadata": {
        "id": "kJKNY-ZFjDtq",
        "colab_type": "text"
      },
      "source": [
        "##Dictionary for PPI and its regulation"
      ]
    },
    {
      "cell_type": "code",
      "metadata": {
        "id": "NY2UEHR8i_iS",
        "colab_type": "code",
        "colab": {}
      },
      "source": [
        "inter_dict = dict(zip(protein_pairs,regulation2))"
      ],
      "execution_count": 0,
      "outputs": []
    },
    {
      "cell_type": "markdown",
      "metadata": {
        "id": "6NWD7SuRjJ9R",
        "colab_type": "text"
      },
      "source": [
        "##Dictionary for PPI and the mechanism"
      ]
    },
    {
      "cell_type": "code",
      "metadata": {
        "id": "7EhTu7KRjM65",
        "colab_type": "code",
        "colab": {}
      },
      "source": [
        "mech_dict = dict(zip(protein_pairs,interaction2))"
      ],
      "execution_count": 0,
      "outputs": []
    },
    {
      "cell_type": "markdown",
      "metadata": {
        "id": "axh2_Uz8jX3M",
        "colab_type": "text"
      },
      "source": [
        "#Trimming the Network"
      ]
    },
    {
      "cell_type": "code",
      "metadata": {
        "id": "HneP14kTjRF-",
        "colab_type": "code",
        "colab": {}
      },
      "source": [
        "up ='up-regulates'\n",
        "down = 'down-regulates'\n",
        "com = 'complex'"
      ],
      "execution_count": 0,
      "outputs": []
    },
    {
      "cell_type": "markdown",
      "metadata": {
        "id": "Z0PtEbpKja06",
        "colab_type": "text"
      },
      "source": [
        "### Pathways checked\n",
        "**Pathway 1 (MAPK pathway):** ERBB2, SHC1, GRB2, SOS1, HRAS, RAF1, MAP2K1, MAPK1, MAPK3, ERBB3, MYC, ELK1, FOS, JUN \\\n",
        "**Pathway 2 (PI3K pathway):** PIK3CA, PIK3R1, PTEN, AKT1, MTOR, RPS6KB1, RPS6KB2, ERBB2, ERBB3, VEGFA, TP53,FOXO\n",
        "\n"
      ]
    },
    {
      "cell_type": "markdown",
      "metadata": {
        "id": "eIj8bgy4o8FQ",
        "colab_type": "text"
      },
      "source": [
        "###NOTE: Since the MCDS was large and majority of the members are already included. Only ERBB2 was used for this test"
      ]
    },
    {
      "cell_type": "code",
      "metadata": {
        "id": "4gTp-zgGk9hX",
        "colab_type": "code",
        "colab": {}
      },
      "source": [
        "MAPK_nodes = set(['ERBB2', 'SHC1', 'GRB2', 'SOS1', 'HRAS', 'RAF1', 'MAP2K1', 'MAPK1', 'MAPK3'])\n",
        "PI3K_nodes = set(['PIK3CA', 'PIK3R1', 'PTEN', 'AKT1', 'MTOR', 'RPS6KB1', 'RPS6KB2'])"
      ],
      "execution_count": 0,
      "outputs": []
    },
    {
      "cell_type": "code",
      "metadata": {
        "id": "c2RfsYstj3rC",
        "colab_type": "code",
        "colab": {}
      },
      "source": [
        "MAPK_path= set()\n",
        "PI3K_path = set()"
      ],
      "execution_count": 0,
      "outputs": []
    },
    {
      "cell_type": "markdown",
      "metadata": {
        "id": "2m0EAMjgk2mr",
        "colab_type": "text"
      },
      "source": [
        "#Network Trimming"
      ]
    },
    {
      "cell_type": "markdown",
      "metadata": {
        "id": "shegQt5PmQ5k",
        "colab_type": "text"
      },
      "source": [
        "##Determining immediate neighbors of starting node"
      ]
    },
    {
      "cell_type": "code",
      "metadata": {
        "id": "7RcOImdkq4WZ",
        "colab_type": "code",
        "colab": {}
      },
      "source": [
        "def state_convert(x):\n",
        "  if up in x:\n",
        "    return up\n",
        "  elif down in x:\n",
        "    return down\n",
        "  elif com in x:\n",
        "    return com\n",
        "  else:\n",
        "    return x"
      ],
      "execution_count": 0,
      "outputs": []
    },
    {
      "cell_type": "markdown",
      "metadata": {
        "id": "POICXLsNn79y",
        "colab_type": "text"
      },
      "source": [
        "##Trimming network with the ff. rules:\n",
        "* The **succeeding/preceeding node** must have the **same type of regulation** as the node of interest, else trim it off **unless** \\\n",
        "* The connection is a **binding mechanism** \\\n",
        "* The **succeeding/preceeding node** is a **complex** \\\n",
        "* **Parameters are easily configured**"
      ]
    },
    {
      "cell_type": "code",
      "metadata": {
        "id": "m8mXwZ8Hlllp",
        "colab_type": "code",
        "outputId": "ec9b0b60-18f0-4b7b-b24d-870fe51e0e9f",
        "colab": {
          "base_uri": "https://localhost:8080/",
          "height": 34
        }
      },
      "source": [
        "trim_net = []\n",
        "direction = []\n",
        "regul = []\n",
        "  \n",
        "start_node = 'FOXM1'\n",
        "in_edge = set(P.in_edges(start_node))\n",
        "out_edge = set(P.out_edges(start_node))\n",
        "edge_tot = in_edge.union(out_edge)    \n",
        "\n",
        "for edge in edge_tot:\n",
        "  try:\n",
        "    reg = inter_dict[edge]\n",
        "    state = state_convert(reg)\n",
        "    #print(state)\n",
        "    regul.append(state)\n",
        "    trim_net.append(edge)\n",
        "  except KeyError:\n",
        "    edge_inv = tuple([edge[1], edge[0]])\n",
        "    reg_inv = inter_dict[edge_inv]\n",
        "    state = state_convert(reg_inv)\n",
        "    print(state)\n",
        "    regul.append(state)\n",
        "    trim_net.append(edge_inv)\n",
        "\n",
        "level2 = dict(zip(trim_net,regul))\n",
        "len(level2)"
      ],
      "execution_count": 20,
      "outputs": [
        {
          "output_type": "execute_result",
          "data": {
            "text/plain": [
              "5"
            ]
          },
          "metadata": {
            "tags": []
          },
          "execution_count": 20
        }
      ]
    },
    {
      "cell_type": "code",
      "metadata": {
        "id": "1Bw_8Z2DWpZ6",
        "colab_type": "code",
        "colab": {}
      },
      "source": [
        "prev_level = set(level2.keys())\n",
        "trimNET = {}\n",
        "trimNET.update(level2)\n",
        "continue_check = True \n",
        "level = 3"
      ],
      "execution_count": 0,
      "outputs": []
    },
    {
      "cell_type": "code",
      "metadata": {
        "id": "-_mcLWyv8NfA",
        "colab_type": "code",
        "outputId": "9a57a294-63b1-440d-b0ff-1393d56e23a0",
        "colab": {
          "base_uri": "https://localhost:8080/",
          "height": 694
        }
      },
      "source": [
        "while continue_check:\n",
        "  nodules = {}\n",
        "  for neighbor in prev_level:\n",
        "    basis_regul = trimNET[neighbor]\n",
        "    if neighbor in P.in_edges():\n",
        "      inward = set(P.in_edges(neighbor[0]))\n",
        "      outward = set(P.in_edges(neighbor[0]))\n",
        "      ed = inward.union(outward)\n",
        "    elif neighbor in P.out_edges():\n",
        "      inward = set(P.in_edges(neighbor[1]))\n",
        "      outward = set(P.out_edges(neighbor[1]))\n",
        "      ed = inward.union(outward)\n",
        "    for member in ed:\n",
        "      try:\n",
        "        subnet = []\n",
        "        regulation = []\n",
        "        reg_member = inter_dict[member]\n",
        "        state = state_convert(reg_member)\n",
        "        if (state == basis_regul) or (state == com) or (mech_dict[member] == 'binding'):\n",
        "          if member not in subnet:\n",
        "            subnet.append(member)\n",
        "            regulation.append(state)\n",
        "            updt = dict(zip(subnet,regulation))\n",
        "            nodules.update(updt)\n",
        "      except KeyError:\n",
        "        subnet = []\n",
        "        regulation = []\n",
        "        a = tuple([member[1],member[0]])\n",
        "        rr = inter_dict[a]\n",
        "        state = state_convert(rr)\n",
        "        if (state == basis_regul) or (state == com) or (mech_dict[member] == 'binding'):\n",
        "          if a not in subnet:\n",
        "            subnet.append(a)\n",
        "            regulation.append(state)\n",
        "            updt = dict(zip(subnet,regulation))\n",
        "            nodules.update(updt)\n",
        "            \n",
        "  if level == 3:\n",
        "    print(\"Level\",level)\n",
        "    print(len(nodules))\n",
        "    A = set(level2.keys())\n",
        "    B = set(nodules.keys())\n",
        "    A_B = set(A & B)\n",
        "    for rem in A_B:\n",
        "      nodules.pop(rem)\n",
        "    print(len(nodules))\n",
        "    prev_level = set(nodules.keys())\n",
        "    onion = A.union(B)\n",
        "    trimNET.update(nodules)\n",
        "    level +=1\n",
        "    \n",
        "  else:\n",
        "    print(\"Level\",level)\n",
        "    print(len(nodules))\n",
        "    B = set(nodules.keys())\n",
        "    intersection = set(onion & B)\n",
        "    for rem in intersection:\n",
        "      nodules.pop(rem)\n",
        "    print(len(nodules))\n",
        "    prev_level = set(nodules.keys())\n",
        "    trimNET.update(nodules)\n",
        "    onion = onion.union(B)\n",
        "    level +=1\n",
        "    if len(nodules) == 0:\n",
        "      continue_check = False\n",
        "     "
      ],
      "execution_count": 22,
      "outputs": [
        {
          "output_type": "stream",
          "text": [
            "Level 3\n",
            "41\n",
            "41\n",
            "Level 4\n",
            "163\n",
            "136\n",
            "Level 5\n",
            "515\n",
            "411\n",
            "Level 6\n",
            "1319\n",
            "923\n",
            "Level 7\n",
            "1835\n",
            "975\n",
            "Level 8\n",
            "2139\n",
            "651\n",
            "Level 9\n",
            "1479\n",
            "434\n",
            "Level 10\n",
            "1450\n",
            "193\n",
            "Level 11\n",
            "687\n",
            "99\n",
            "Level 12\n",
            "457\n",
            "74\n",
            "Level 13\n",
            "401\n",
            "35\n",
            "Level 14\n",
            "87\n",
            "1\n",
            "Level 15\n",
            "3\n",
            "0\n"
          ],
          "name": "stdout"
        }
      ]
    },
    {
      "cell_type": "markdown",
      "metadata": {
        "id": "E9-VwwMOU929",
        "colab_type": "text"
      },
      "source": [
        "#Appending to a text file"
      ]
    },
    {
      "cell_type": "code",
      "metadata": {
        "id": "WcxsmRdK7ZAD",
        "colab_type": "code",
        "colab": {}
      },
      "source": [
        "trimNETKeys = set(trimNET.keys())\n",
        "\n",
        "with open('trimmedNet.txt', 'w') as filehandle:\n",
        "  for x in trimNETKeys:\n",
        "    first= x[0]\n",
        "    second = x[1]\n",
        "    filehandle.writelines(\"%s   %s \\n\" % (first,second))"
      ],
      "execution_count": 0,
      "outputs": []
    },
    {
      "cell_type": "code",
      "metadata": {
        "id": "igk_U0JeVGPm",
        "colab_type": "code",
        "colab": {}
      },
      "source": [
        "Pp = nx.read_edgelist('trimmedNet.txt', create_using = nx.DiGraph)"
      ],
      "execution_count": 0,
      "outputs": []
    },
    {
      "cell_type": "code",
      "metadata": {
        "id": "Rt0NSvlrVOuF",
        "colab_type": "code",
        "colab": {}
      },
      "source": [
        "relevant_edges = []\n",
        "ed1 = set(Pp.nodes())\n",
        "for x in ed1:\n",
        "  a0 = set(P.in_edges(x))\n",
        "  b0 = set(P.out_edges(x))\n",
        "  c0 = a0.union(b0)\n",
        "  for elem in c0:\n",
        "    elem0 = elem[0]\n",
        "    elem1 = elem[1]\n",
        "    if (elem0 and elem1) in ed1:\n",
        "      relevant_edges.append(tuple([elem0,elem1]))\n",
        "    else:\n",
        "      #print(elem,' is not a member of MCDS pairs!.')\n",
        "      continue"
      ],
      "execution_count": 0,
      "outputs": []
    },
    {
      "cell_type": "markdown",
      "metadata": {
        "id": "dXSWDCFnVgY5",
        "colab_type": "text"
      },
      "source": [
        "#MCDS Calculation"
      ]
    },
    {
      "cell_type": "code",
      "metadata": {
        "id": "W-sXFQAnVaf1",
        "colab_type": "code",
        "colab": {}
      },
      "source": [
        "# INITIALIZATION OF CODE SNIPET\n",
        "V = set(Pp.nodes()) #Sets V as all nodes\n",
        "# CHOOSE A NODE V WITH HIGHEST DEGREE\n",
        "v = start_node \n",
        "MCDS = set([v]) #Outputs Node with most connections\n",
        "inward = set(Pp.in_edges(v))\n",
        "outward = set(Pp.out_edges(v))\n",
        "W = set()\n",
        "for x in inward:\n",
        "  W.add(x[0])\n",
        "for y in outward:\n",
        "  W.add(y[1])\n",
        "#W = set(Pp[v]) #Saves Nodes which are connected to node with most connections\n",
        "U = set([v]) | W\n",
        "while U != V:\n",
        "  w = None\n",
        "  w_length = 0\n",
        "  for node in W:\n",
        "    inward2 = set(Pp.in_edges(node))\n",
        "    outward2 = set(Pp.out_edges(node))\n",
        "    Gnode = set()\n",
        "    for x in inward2:\n",
        "      Gnode.add(x[0])\n",
        "    for y in outward2:\n",
        "      Gnode.add(y[1])\n",
        "    neighbours = set(Gnode) - U\n",
        "    #print(node,\":\",neighbours)\n",
        "    if (len(neighbours) > w_length):\n",
        "      w_length = len(neighbours)\n",
        "      w = node\n",
        "  MCDS = MCDS | set([w])\n",
        "  print(MCDS)\n",
        "  inward3 = set(Pp.in_edges(w))\n",
        "  outward3 = set(Pp.out_edges(w))\n",
        "  edi = set()\n",
        "  for x in inward3:\n",
        "    edi.add(x[0])\n",
        "  for y in outward3:\n",
        "    edi.add(y[1])\n",
        "  U = U | edi\n",
        "  W = (W - set([w])) | (edi - set([v]))\n",
        "  v = w\n",
        "  "
      ],
      "execution_count": 0,
      "outputs": []
    },
    {
      "cell_type": "code",
      "metadata": {
        "id": "EmiJHplmVlsR",
        "colab_type": "code",
        "outputId": "dac306fa-50b5-4066-8850-54d8aa3657de",
        "colab": {
          "base_uri": "https://localhost:8080/",
          "height": 52
        }
      },
      "source": [
        "print(len(MAPK_path))\n",
        "MAPK_path= MAPK_path.union(MCDS)\n",
        "len(MAPK_path)"
      ],
      "execution_count": 28,
      "outputs": [
        {
          "output_type": "stream",
          "text": [
            "0\n"
          ],
          "name": "stdout"
        },
        {
          "output_type": "execute_result",
          "data": {
            "text/plain": [
              "335"
            ]
          },
          "metadata": {
            "tags": []
          },
          "execution_count": 28
        }
      ]
    },
    {
      "cell_type": "code",
      "metadata": {
        "id": "nfWty2EwZ62f",
        "colab_type": "code",
        "colab": {}
      },
      "source": [
        "with open('FOXM1_path.txt', 'w') as filehandle:\n",
        "  for x in MAPK_path:\n",
        "    first= x\n",
        "    first = first.replace(\"_\",\" \")\n",
        "    filehandle.writelines(\"%s, \" % first)"
      ],
      "execution_count": 0,
      "outputs": []
    },
    {
      "cell_type": "code",
      "metadata": {
        "id": "m06QhMKKmBaB",
        "colab_type": "code",
        "colab": {}
      },
      "source": [
        ""
      ],
      "execution_count": 0,
      "outputs": []
    }
  ]
}